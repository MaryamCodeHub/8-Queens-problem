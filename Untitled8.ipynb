{
  "nbformat": 4,
  "nbformat_minor": 0,
  "metadata": {
    "colab": {
      "provenance": [],
      "authorship_tag": "ABX9TyP8fXJKrObmKoL1ZnBdvMl7",
      "include_colab_link": true
    },
    "kernelspec": {
      "name": "python3",
      "display_name": "Python 3"
    },
    "language_info": {
      "name": "python"
    }
  },
  "cells": [
    {
      "cell_type": "markdown",
      "metadata": {
        "id": "view-in-github",
        "colab_type": "text"
      },
      "source": [
        "<a href=\"https://colab.research.google.com/github/MaryamCodeHub/8-Queens-problem/blob/main/Untitled8.ipynb\" target=\"_parent\"><img src=\"https://colab.research.google.com/assets/colab-badge.svg\" alt=\"Open In Colab\"/></a>"
      ]
    },
    {
      "cell_type": "code",
      "execution_count": 1,
      "metadata": {
        "colab": {
          "base_uri": "https://localhost:8080/"
        },
        "id": "5ruZW577skx3",
        "outputId": "e5e6eb47-5ce8-4e8c-cd7c-2d5a76d9f447"
      },
      "outputs": [
        {
          "output_type": "stream",
          "name": "stdout",
          "text": [
            "\n",
            "Chessboard:\n",
            "Q . . . . . . .\n",
            ". . Q . . . . .\n",
            ". . . . Q . . .\n",
            ". Q . . . . . .\n",
            ". . . Q . . . .\n",
            ". . . . . Q . .\n",
            ". . . . . . . Q\n",
            ". . . . . . Q .\n",
            "\n",
            "Total attacking pairs: 4\n",
            "\n",
            "Attacking pairs (row, column):\n",
            "Queen in Row 1, Column 1 attacks Queen in Row 6, Column 6\n",
            "Queen in Row 2, Column 3 attacks Queen in Row 7, Column 8\n",
            "Queen in Row 5, Column 4 attacks Queen in Row 8, Column 7\n",
            "Queen in Row 7, Column 8 attacks Queen in Row 8, Column 7\n"
          ]
        }
      ],
      "source": [
        "def display_chessboard(queen_positions):\n",
        "    n = len(queen_positions)\n",
        "    print(\"\\nChessboard:\")\n",
        "    for i in range(n):\n",
        "        row = [\"Q\" if j == queen_positions[i] else \".\" for j in range(n)]\n",
        "        print(\" \".join(row))\n",
        "\n",
        "# Function to calculate attacking pairs of queens\n",
        "def calculate_attacking_pairs(queen_positions):\n",
        "    n = len(queen_positions)\n",
        "    attacks = 0\n",
        "    attacking_pairs = []  # List to store attacking pairs\n",
        "    for i in range(n):\n",
        "        for j in range(i + 1, n):\n",
        "            # Check for same column or diagonal attacks\n",
        "            if queen_positions[i] == queen_positions[j] or abs(queen_positions[i] - queen_positions[j]) == abs(i - j):\n",
        "                attacks += 1\n",
        "                attacking_pairs.append((i + 1, queen_positions[i] + 1, j + 1, queen_positions[j] + 1))  # Storing 1-based indices\n",
        "    return attacks, attacking_pairs\n",
        "\n",
        "# Example placement of queens (one in each row)\n",
        "queen_positions = [0, 2, 4, 1, 3, 5, 7, 6]\n",
        "\n",
        "# Display the chessboard\n",
        "display_chessboard(queen_positions)\n",
        "\n",
        "# Calculate and display the total number of attacking pairs\n",
        "attacking_pairs, pairs = calculate_attacking_pairs(queen_positions)\n",
        "print(f\"\\nTotal attacking pairs: {attacking_pairs}\")\n",
        "\n",
        "# Display the attacking pairs\n",
        "if attacking_pairs > 0:\n",
        "    print(\"\\nAttacking pairs (row, column):\")\n",
        "    for pair in pairs:\n",
        "        print(f\"Queen in Row {pair[0]}, Column {pair[1]} attacks Queen in Row {pair[2]}, Column {pair[3]}\")"
      ]
    }
  ]
}