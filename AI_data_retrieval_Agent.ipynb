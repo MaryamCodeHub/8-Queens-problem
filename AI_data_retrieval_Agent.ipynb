{
  "cells": [
    {
      "cell_type": "markdown",
      "metadata": {
        "id": "view-in-github",
        "colab_type": "text"
      },
      "source": [
        "<a href=\"https://colab.research.google.com/github/MaryamCodeHub/8-Queens-problem/blob/main/AI_data_retrieval_Agent.ipynb\" target=\"_parent\"><img src=\"https://colab.research.google.com/assets/colab-badge.svg\" alt=\"Open In Colab\"/></a>"
      ]
    },
    {
      "cell_type": "code",
      "execution_count": null,
      "metadata": {
        "id": "pk-YXV165QmD"
      },
      "outputs": [],
      "source": [
        "!pip install -q google-generativeai"
      ]
    },
    {
      "cell_type": "code",
      "execution_count": null,
      "metadata": {
        "id": "lkkmqgCv5hJy"
      },
      "outputs": [],
      "source": [
        "# AI Document Generator using Google's Gemini API\n",
        "# For Google Colab environment\n",
        "\n",
        "import os\n",
        "import time\n",
        "import requests\n",
        "import google.generativeai as genai\n",
        "from IPython.display import HTML, display, Markdown\n",
        "from google.colab import files\n",
        "import textwrap"
      ]
    },
    {
      "cell_type": "code",
      "execution_count": 8,
      "metadata": {
        "colab": {
          "base_uri": "https://localhost:8080/",
          "height": 1000
        },
        "id": "49SNL-5Y5R6y",
        "outputId": "b0136aca-a590-45e7-c597-88b8389804e1"
      },
      "outputs": [
        {
          "metadata": {
            "tags": null
          },
          "name": "stdout",
          "output_type": "stream",
          "text": [
            "🤖 AI Document Generator using Google's Gemini AI 📄\n",
            "----------------------------------------------------\n",
            "✅ Gemini API configured successfully!\n",
            "\n",
            "⏳ Retrieving information about 'kids poem'...\n",
            "✅ Information retrieved successfully!\n",
            "\n",
            "📄 Document Preview:\n",
            "------------------\n"
          ]
        },
        {
          "data": {
            "text/markdown": "\n  # Kids Poem: Comprehensive Analysis\n  \n  ## Kids Poems: A Comprehensive Overview\n\n**1. Overview:**\n\nKids poems are a genre of poetry specifically written for or enjoyed by children. Characterized by their simple language, playful themes, and often rhythmic or rhyming structures, these poems aim to entertain, educate, and foster a love of language in young audiences.  They range from traditional nursery rhymes and lullabies to contemporary free verse poems exploring a child's world.\n\n\n**2. Key Aspects and Components:**\n\n* **Simple Language:**  Kids poems utilize vocabulary and sentence structures easily understood by children. They avoid complex metaphors or abstract concepts, focusing on concrete imagery and everyday experiences.\n* **Rhythm and Rhyme:**  Many kids poems employ rhyme schemes and regular rhythms, making them memorable and enjoyable to recite aloud. These sonic elements contribute to the poem's musicality and engage children's auditory senses.\n* **Playful Themes:**  Common themes in kids poems include animals, nature, family, friendship, and everyday activities like playing, eating, and sleeping. These themes resonate with children's interests and experiences, making the poems relatable and engaging.\n* **Imagery and Sensory Details:**  Kids poems often use vivid imagery and sensory details to create a rich and imaginative world.  This helps children visualize the poem and connect with it on a deeper level.\n* **Humor and Nonsense:** Many kids poems incorporate humor, silliness, and nonsense words.  This playful element adds to the entertainment value and encourages children to engage with language in a creative and uninhibited way.\n* **Emotional Resonance:** While often lighthearted, kids poems can also explore a range of emotions, from joy and excitement to sadness and fear. This helps children develop emotional literacy and understand their own feelings.\n\n\n**3. Historical Background or Development:**\n\nThe origins of kids poems can be traced back to ancient oral traditions of storytelling and lullabies. Nursery rhymes, a subset of kids poems, emerged in the 18th century, with collections like \"Tommy Thumb's Song Book\" and \"Mother Goose's Melody\" popularizing these simple, rhyming verses. The 19th and 20th centuries saw the rise of prominent children's poets like Robert Louis Stevenson, A. A. Milne, and Shel Silverstein, who expanded the genre with their imaginative and humorous works.\n\n\n**4. Current State and Importance:**\n\nKids poems remain a vital part of childhood development and literacy.  They are widely used in educational settings to teach phonics, vocabulary, and reading comprehension. They are also enjoyed at home, in libraries, and during storytelling sessions.  Contemporary children's poets continue to push the boundaries of the genre, exploring diverse themes and experimenting with different poetic forms.\n\n\n**5. Applications or Use Cases:**\n\n* **Early Childhood Education:** Kids poems are essential tools for developing early literacy skills. They are used to teach phonemic awareness, vocabulary, and comprehension.\n* **Language Development:**  Reciting and reading poems helps children expand their vocabulary, improve their pronunciation, and develop a sense of rhythm and rhyme.\n* **Emotional Development:** Poems can help children express and understand their emotions, promoting emotional literacy and self-awareness.\n* **Creative Expression:**  Kids poems can inspire children to write their own poems, fostering their creativity and imagination.\n* **Entertainment and Enjoyment:**  Kids poems provide a source of entertainment and enjoyment, fostering a love of reading and language.\n\n\n**6. Future Outlook or Trends:**\n\n* **Multicultural and Inclusive Poetry:**  There's a growing emphasis on incorporating diverse voices and perspectives in children's literature, including poetry. We can expect to see more kids poems that celebrate different cultures, languages, and experiences.\n* **Digital Platforms and Interactive Poetry:**  Technology is transforming the way children interact with poetry. Digital platforms offer interactive experiences, animated poems, and opportunities for children to create and share their own work.\n* **Focus on Social-Emotional Learning:**  As social-emotional learning gains prominence in education, kids poems will likely play a greater role in helping children develop empathy, resilience, and other important social-emotional skills.\n* **Poetry as a Tool for Social Change:**  Kids poems can be used to address social issues and promote positive change. We may see more poems that explore themes of environmental awareness, social justice, and equality. \n\n  \n  ---\n  *Document generated using Google's Gemini AI*\n  ",
            "text/plain": [
              "<IPython.core.display.Markdown object>"
            ]
          },
          "metadata": {},
          "output_type": "display_data"
        },
        {
          "output_type": "stream",
          "name": "stdout",
          "text": [
            "\n",
            "Do you want to save this document? (y/n): n\n",
            "\n",
            "🎉 Thank you for using the AI Document Generator!\n"
          ]
        }
      ],
      "source": [
        "# Function to configure the Gemini API with your API key\n",
        "def setup_gemini_api(api_key):\n",
        "  \"\"\"Configure the Gemini API with the provided API key\"\"\"\n",
        "  genai.configure(api_key=api_key)\n",
        "  return \"✅ Gemini API configured successfully!\"\n",
        "\n",
        "# Function to get available Gemini models\n",
        "def get_available_models():\n",
        "  \"\"\"List available Gemini models\"\"\"\n",
        "  models = genai.list_models()\n",
        "  gemini_models = [model for model in models if \"gemini\" in model.name]\n",
        "  return gemini_models\n",
        "\n",
        "# Function to retrieve information on a specific topic\n",
        "def retrieve_information(topic, model_name=\"gemini-1.5-pro\", max_tokens=8192):\n",
        "  \"\"\"Retrieve comprehensive information on a specific topic using Gemini AI\"\"\"\n",
        "  try:\n",
        "    # Configure the model\n",
        "    model = genai.GenerativeModel(model_name)\n",
        "\n",
        "    # Create a prompt that requests comprehensive information\n",
        "    prompt = f\"\"\"\n",
        "    Please provide comprehensive information about \"{topic}\".\n",
        "\n",
        "    Structure the information as follows:\n",
        "    1. Overview - A brief introduction to {topic}\n",
        "    2. Key aspects and components\n",
        "    3. Historical background or development\n",
        "    4. Current state and importance\n",
        "    5. Applications or use cases\n",
        "    6. Future outlook or trends\n",
        "\n",
        "    Make the information detailed, factual, and well-organized.\n",
        "    \"\"\"\n",
        "\n",
        "    # Generate content\n",
        "    response = model.generate_content(prompt)\n",
        "\n",
        "    return response.text\n",
        "  except Exception as e:\n",
        "    return f\"Error retrieving information: {str(e)}\"\n",
        "\n",
        "# Function to format the retrieved information into a document\n",
        "def format_document(topic, content):\n",
        "  \"\"\"Format the retrieved information into a structured document\"\"\"\n",
        "  document = f\"\"\"\n",
        "  # {topic.title()}: Comprehensive Analysis\n",
        "\n",
        "  {content}\n",
        "\n",
        "  ---\n",
        "  *Document generated using Google's Gemini AI*\n",
        "  \"\"\"\n",
        "  return document\n",
        "\n",
        "# Function to save the document as a markdown file\n",
        "def save_as_markdown(document, filename):\n",
        "  \"\"\"Save the document as a markdown file and download it\"\"\"\n",
        "  with open(filename, 'w') as f:\n",
        "    f.write(document)\n",
        "  files.download(filename)\n",
        "\n",
        "# Function to display the document in the notebook\n",
        "def preview_document(document):\n",
        "  \"\"\"Display the document in the notebook\"\"\"\n",
        "  display(Markdown(document))\n",
        "\n",
        "# Main function for the AI Document Generator\n",
        "def generate_document():\n",
        "  \"\"\"Main function for running the AI Document Generator\"\"\"\n",
        "  print(\"🤖 AI Document Generator using Google's Gemini AI 📄\")\n",
        "  print(\"----------------------------------------------------\")\n",
        "\n",
        "  # Get the API key from the user\n",
        "  api_key = input(\"Enter your Gemini API key: \")\n",
        "\n",
        "  try:\n",
        "    # Setup the Gemini API\n",
        "    setup_message = setup_gemini_api(api_key)\n",
        "    print(setup_message)\n",
        "\n",
        "    # List available models to help with debugging\n",
        "    #print(\"\\nAvailable Gemini models:\")\n",
        "    #models = get_available_models()\n",
        "    #for i, model in enumerate(models, 1):\n",
        "      #print(f\"{i}. {model.name}\")\n",
        "\n",
        "    # Get the topic from the user\n",
        "    topic = input(\"\\nEnter the topic you want to research: \")\n",
        "\n",
        "    print(f\"\\n⏳ Retrieving information about '{topic}'...\")\n",
        "\n",
        "    # Retrieve information on the topic\n",
        "    information = retrieve_information(topic)\n",
        "\n",
        "    print(\"✅ Information retrieved successfully!\")\n",
        "\n",
        "    # Format the information into a document\n",
        "    document = format_document(topic, information)\n",
        "\n",
        "    print(\"\\n📄 Document Preview:\")\n",
        "    print(\"------------------\")\n",
        "    preview_document(document)\n",
        "\n",
        "    # Ask the user if they want to save the document\n",
        "    save_choice = input(\"\\nDo you want to save this document? (y/n): \")\n",
        "    if save_choice.lower() == 'y':\n",
        "      filename = f\"{topic.replace(' ', '_').lower()}_research.md\"\n",
        "      save_as_markdown(document, filename)\n",
        "      print(f\"📥 Document saved as '{filename}' and downloaded.\")\n",
        "\n",
        "    print(\"\\n🎉 Thank you for using the AI Document Generator!\")\n",
        "\n",
        "  except Exception as e:\n",
        "    print(f\"❌ An error occurred: {str(e)}\")\n",
        "\n",
        "# To use this script in Google Colab:\n",
        "# 1. Run: !pip install -q google-generativeai\n",
        "# 2. Copy and paste this entire script into a Colab cell\n",
        "# 3. Run: generate_document()\n",
        "\n",
        "if __name__ == \"__main__\":\n",
        "  # This won't run in Colab directly, but shows how to use the function\n",
        "  generate_document()\n"
      ]
    }
  ],
  "metadata": {
    "colab": {
      "provenance": [],
      "authorship_tag": "ABX9TyPhvfcngXhRO4b9tqJpDvAM",
      "include_colab_link": true
    },
    "kernelspec": {
      "display_name": "Python 3",
      "name": "python3"
    },
    "language_info": {
      "name": "python"
    }
  },
  "nbformat": 4,
  "nbformat_minor": 0
}